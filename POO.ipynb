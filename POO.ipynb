{
  "nbformat": 4,
  "nbformat_minor": 0,
  "metadata": {
    "colab": {
      "name": "POO.ipynb",
      "provenance": [],
      "collapsed_sections": [],
      "authorship_tag": "ABX9TyM+kqIpjBdaz7JK5DwHsKW8",
      "include_colab_link": true
    },
    "kernelspec": {
      "name": "python3",
      "display_name": "Python 3"
    },
    "language_info": {
      "name": "python"
    }
  },
  "cells": [
    {
      "cell_type": "markdown",
      "metadata": {
        "id": "view-in-github",
        "colab_type": "text"
      },
      "source": [
        "<a href=\"https://colab.research.google.com/github/helenksouza/helenksouza/blob/main/POO.ipynb\" target=\"_parent\"><img src=\"https://colab.research.google.com/assets/colab-badge.svg\" alt=\"Open In Colab\"/></a>"
      ]
    },
    {
      "cell_type": "markdown",
      "source": [
        "POO é um paradigma de programação que utiliza um mapeamento  de objetos do mundo real para modelos computacionais.\n",
        "\n",
        "Paradigma de programação é a forma/metodologia utilizada para pensar/desenvolver sistemas."
      ],
      "metadata": {
        "id": "gcZlPRYFKA83"
      }
    },
    {
      "cell_type": "markdown",
      "source": [
        "**Paradigmas da programação.**\n",
        "\n",
        "* Programação estruturada (Java);\n",
        "* Programação Orientada a Objetos;\n",
        "* Programação funcional.\n"
      ],
      "metadata": {
        "id": "dKQ7p7E-Hvcv"
      }
    },
    {
      "cell_type": "markdown",
      "source": [
        "* Programação Orientada a Objetos\n",
        "\n",
        "> Classe: Modelo do objeto do mundo real sendo representado computacionalmente;\n",
        "\n",
        "> Atributo: características do objeto. Representar status do objeto.\n",
        "\n",
        "> Método: Comportamento do objeto. Quais ações pode executar (lembrar das funções) - função é um método dentro da  classe\n",
        "\n",
        "> Construtor: método especial para criar objetos a partir de uma classe.\n",
        "\n",
        "> Objeto: Instância da classe. Produto final. Objetos mapeados por classe são chamados de entidade.\n",
        "\n",
        "\n",
        "\n",
        "---\n",
        "\n"
      ],
      "metadata": {
        "id": "A_-rb_aeJDWR"
      }
    },
    {
      "cell_type": "markdown",
      "source": [
        "> Utilizamos a palavra Pass em Python quando temos um bloco de código que ainda não está implementado.\n",
        "\n",
        "> Quando nomeamos ***nossas*** classes, utlizamos por convenção o nome com inicial em maiúsculo. Se o nome for composto: duas iniciais maiúsculas sem espaço."
      ],
      "metadata": {
        "id": "TAsMWaeFQbFQ"
      }
    },
    {
      "cell_type": "code",
      "execution_count": null,
      "metadata": {
        "id": "KT9D2DTZHopd"
      },
      "outputs": [],
      "source": [
        "class Produto: #definindo a classe\n",
        "  pass #não faz nada\n",
        "\n",
        "notebook = Produto() #construtor padrão da classe do prório nome(produto). é um metodo > ()"
      ]
    },
    {
      "cell_type": "code",
      "source": [
        "notebook = Produto()\n",
        "print(notebook)\n",
        "print(type(notebook))"
      ],
      "metadata": {
        "colab": {
          "base_uri": "https://localhost:8080/"
        },
        "id": "JDib6NbVM7oU",
        "outputId": "244a36ff-a23c-4864-ae8a-e3944e82e2ed"
      },
      "execution_count": null,
      "outputs": [
        {
          "output_type": "stream",
          "name": "stdout",
          "text": [
            "<__main__.Produto object at 0x7fd3e75f3f10>\n",
            "<class '__main__.Produto'>\n"
          ]
        }
      ]
    },
    {
      "cell_type": "code",
      "source": [
        "valor= int('42') #cast\n",
        "print(help(int)) #int é uma classe do python"
      ],
      "metadata": {
        "id": "XKtoOPFfRo0u"
      },
      "execution_count": null,
      "outputs": []
    },
    {
      "cell_type": "markdown",
      "source": [
        "Atributos:\n",
        "* Atributos de instância;\n",
        "* Atributos de classe;\n",
        "* Atributos Dinâmicos.\n"
      ],
      "metadata": {
        "id": "1W4V3YFo0DzF"
      }
    },
    {
      "cell_type": "markdown",
      "source": [
        "> Atributos de instância: São atributos declarados dentro do método construtor.\n",
        "\n",
        "* Método construtor: método especial para a construção do objeto\n"
      ],
      "metadata": {
        "id": "M6zpdT8G0lz8"
      }
    },
    {
      "cell_type": "markdown",
      "source": [
        "\n",
        "```\n",
        "# Regis é uma instância de uma classe chamada Pessoa, mas a Pessoa é a classe que o representa de uma forma genérica.\n",
        "```\n",
        "\n",
        "\n"
      ],
      "metadata": {
        "id": "uyTBqnN_3_7g"
      }
    },
    {
      "cell_type": "markdown",
      "source": [
        "init: método construtor. inicializa funcionalidade incial da classe.\n",
        "\n",
        "self: acessar propriedades e métodos de uma instância."
      ],
      "metadata": {
        "id": "ab1HOMEX31tP"
      }
    },
    {
      "cell_type": "code",
      "source": [
        "#Público\n",
        "class Lampada:\n",
        "  def __init__(self, voltagem, cor):\n",
        "    self.voltagem = voltagem\n",
        "    self.cor = cor\n",
        "    self.ligada= False"
      ],
      "metadata": {
        "id": "xKh5cdHP03MM"
      },
      "execution_count": null,
      "outputs": []
    },
    {
      "cell_type": "code",
      "source": [
        "#Privado\n",
        "class Lampada:\n",
        "  def __init__(Lampada, voltagem, cor):\n",
        "    Lampada.__voltagem = voltagem\n",
        "    Lampada.__cor = cor\n",
        "    Lampada.__ligada= False"
      ],
      "metadata": {
        "id": "A_w6CHlJ8Y_q"
      },
      "execution_count": null,
      "outputs": []
    },
    {
      "cell_type": "markdown",
      "source": [
        "Atributos públicos e privados:\n",
        "* Privado: visível só dentro da classe que está.\n",
        "\n",
        "Em python, por convenção, todo atributo de uma classe é público. Caso queira privado: __\n"
      ],
      "metadata": {
        "id": "BUjBsoeA8skd"
      }
    },
    {
      "cell_type": "code",
      "source": [
        "class Acesso:\n",
        "  \n",
        "  def __init__(self, email, senha):\n",
        "    self.email = email\n",
        "    self.__senha= senha\n",
        "\n",
        "  def mostra_senha(self):\n",
        "    print(self.__senha)"
      ],
      "metadata": {
        "id": "eh-p61AWBqny"
      },
      "execution_count": null,
      "outputs": []
    },
    {
      "cell_type": "code",
      "source": [
        "user= Acesso('helen@gmail.com','12345') #user:objeto/instância\n",
        "print(user.email)"
      ],
      "metadata": {
        "colab": {
          "base_uri": "https://localhost:8080/"
        },
        "id": "aAzE9ftwCPon",
        "outputId": "b80c2840-e10d-4e66-ba3c-d2714c8c7190"
      },
      "execution_count": null,
      "outputs": [
        {
          "output_type": "stream",
          "name": "stdout",
          "text": [
            "helen@gmail.com\n"
          ]
        }
      ]
    },
    {
      "cell_type": "code",
      "source": [
        "user= Acesso('helen@gmail.com','12345') #user:objeto/instância\n",
        "print(user.__senha)"
      ],
      "metadata": {
        "colab": {
          "base_uri": "https://localhost:8080/",
          "height": 190
        },
        "id": "FrJGoFaeDsrT",
        "outputId": "09649061-d4b6-437a-dee5-f385c5ca2552"
      },
      "execution_count": null,
      "outputs": [
        {
          "output_type": "error",
          "ename": "AttributeError",
          "evalue": "ignored",
          "traceback": [
            "\u001b[0;31m---------------------------------------------------------------------------\u001b[0m",
            "\u001b[0;31mAttributeError\u001b[0m                            Traceback (most recent call last)",
            "\u001b[0;32m<ipython-input-12-e7e360dc8e5e>\u001b[0m in \u001b[0;36m<module>\u001b[0;34m()\u001b[0m\n\u001b[1;32m      1\u001b[0m \u001b[0muser\u001b[0m\u001b[0;34m=\u001b[0m \u001b[0mAcesso\u001b[0m\u001b[0;34m(\u001b[0m\u001b[0;34m'helen@gmail.com'\u001b[0m\u001b[0;34m,\u001b[0m\u001b[0;34m'12345'\u001b[0m\u001b[0;34m)\u001b[0m \u001b[0;31m#user:objeto/instância\u001b[0m\u001b[0;34m\u001b[0m\u001b[0;34m\u001b[0m\u001b[0m\n\u001b[0;32m----> 2\u001b[0;31m \u001b[0mprint\u001b[0m\u001b[0;34m(\u001b[0m\u001b[0muser\u001b[0m\u001b[0;34m.\u001b[0m\u001b[0m__senha\u001b[0m\u001b[0;34m)\u001b[0m\u001b[0;34m\u001b[0m\u001b[0;34m\u001b[0m\u001b[0m\n\u001b[0m",
            "\u001b[0;31mAttributeError\u001b[0m: 'Acesso' object has no attribute '__senha'"
          ]
        }
      ]
    },
    {
      "cell_type": "code",
      "source": [
        "print(dir(user))"
      ],
      "metadata": {
        "colab": {
          "base_uri": "https://localhost:8080/"
        },
        "id": "wg5Ls__qD6uo",
        "outputId": "f595db84-3c7e-42fe-e374-2b66b83963bc"
      },
      "execution_count": null,
      "outputs": [
        {
          "output_type": "stream",
          "name": "stdout",
          "text": [
            "['_Acesso__senha', '__class__', '__delattr__', '__dict__', '__dir__', '__doc__', '__eq__', '__format__', '__ge__', '__getattribute__', '__gt__', '__hash__', '__init__', '__init_subclass__', '__le__', '__lt__', '__module__', '__ne__', '__new__', '__reduce__', '__reduce_ex__', '__repr__', '__setattr__', '__sizeof__', '__str__', '__subclasshook__', '__weakref__', 'email']\n",
            "['_Acesso__senha', '__class__', '__delattr__', '__dict__', '__dir__', '__doc__', '__eq__', '__format__', '__ge__', '__getattribute__', '__gt__', '__hash__', '__init__', '__init_subclass__', '__le__', '__lt__', '__module__', '__ne__', '__new__', '__reduce__', '__reduce_ex__', '__repr__', '__setattr__', '__sizeof__', '__str__', '__subclasshook__', '__weakref__', 'email']\n"
          ]
        }
      ]
    },
    {
      "cell_type": "code",
      "source": [
        "print(user._Acesso__senha) #Name Mangling - junção do nome da classe com o atributo privado"
      ],
      "metadata": {
        "colab": {
          "base_uri": "https://localhost:8080/"
        },
        "id": "-THku6k8Eh6D",
        "outputId": "a7ae0fdb-a91d-49c9-affd-882b7836121e"
      },
      "execution_count": null,
      "outputs": [
        {
          "output_type": "stream",
          "name": "stdout",
          "text": [
            "12345\n"
          ]
        }
      ]
    },
    {
      "cell_type": "code",
      "source": [
        "class Acesso:\n",
        "  \n",
        "  def __init__(self, email, senha):\n",
        "    self.email = email\n",
        "    self.__senha= senha\n",
        "\n",
        "  def mostra_senha(self):\n",
        "    print(self.__senha)"
      ],
      "metadata": {
        "id": "taems-6XGh2w"
      },
      "execution_count": null,
      "outputs": []
    },
    {
      "cell_type": "code",
      "source": [
        "user.mostra_senha()"
      ],
      "metadata": {
        "colab": {
          "base_uri": "https://localhost:8080/"
        },
        "id": "-C8BUa8xGkqE",
        "outputId": "c02f6b0a-08f8-42cd-fd43-bcd5d03e1201"
      },
      "execution_count": null,
      "outputs": [
        {
          "output_type": "stream",
          "name": "stdout",
          "text": [
            "12345\n"
          ]
        }
      ]
    },
    {
      "cell_type": "markdown",
      "source": [
        "Atributos de classe: atributos declarados diretamente na classe."
      ],
      "metadata": {
        "id": "rspKYADdHDiR"
      }
    },
    {
      "cell_type": "code",
      "source": [
        "class Prod:\n",
        "  def __init__(self, nome, descricao, preco):\n",
        "    self.nome = nome\n",
        "    self.descricao = descricao\n",
        "    self.preco = preco "
      ],
      "metadata": {
        "id": "LXLuNKqTL4X6"
      },
      "execution_count": null,
      "outputs": []
    },
    {
      "cell_type": "code",
      "source": [
        "c1 = Prod('Secador','Cabelo',100)"
      ],
      "metadata": {
        "id": "sZ73ZNirMXvL"
      },
      "execution_count": null,
      "outputs": []
    },
    {
      "cell_type": "code",
      "source": [
        "class Prod:\n",
        "  imposto =1.05 #atributo estático\n",
        "\n",
        "  def __init__(self, nome, descricao, preco):\n",
        "    self.nome = nome\n",
        "    self.descricao = descricao\n",
        "    self.preco = (preco  + Prod.imposto)"
      ],
      "metadata": {
        "id": "iboDk0S1InzI"
      },
      "execution_count": null,
      "outputs": []
    },
    {
      "cell_type": "code",
      "source": [
        "p1 = Prod('Secador','Cabelo',100)"
      ],
      "metadata": {
        "id": "E63PixAdKWv3"
      },
      "execution_count": null,
      "outputs": []
    },
    {
      "cell_type": "code",
      "source": [
        "print(p1.preco) #incorreto\n",
        "print(p1.imposto)"
      ],
      "metadata": {
        "colab": {
          "base_uri": "https://localhost:8080/"
        },
        "id": "2x9sH3-nNKar",
        "outputId": "7f63b6e1-33b5-400a-9599-b4fc156098fd"
      },
      "execution_count": null,
      "outputs": [
        {
          "output_type": "stream",
          "name": "stdout",
          "text": [
            "101.05\n",
            "1.05\n"
          ]
        }
      ]
    },
    {
      "cell_type": "code",
      "source": [
        "class Prod:\n",
        "  imposto =1.05 #atributo estático\n",
        "\n",
        "  def __init__(self, nome, descricao, preco):\n",
        "    self.nome = nome\n",
        "    self.descricao = descricao\n",
        "    self.preco = preco  "
      ],
      "metadata": {
        "id": "dz2rrci7QPv6"
      },
      "execution_count": null,
      "outputs": []
    },
    {
      "cell_type": "code",
      "source": [
        "#Criando um atributo dinâmico\n",
        "\n",
        "p2= Prod('Arroz', 'Mercado', 10)\n",
        "\n",
        "p2.peso='5kg'\n",
        "print(f'Prod:{p2.nome},descricao: {p2.descricao}, preco: {p2.preco}, peso:{p2.peso}')"
      ],
      "metadata": {
        "colab": {
          "base_uri": "https://localhost:8080/"
        },
        "id": "7WvXKGo0POiX",
        "outputId": "8d083663-e129-4016-bdc8-10bbc3656096"
      },
      "execution_count": null,
      "outputs": [
        {
          "output_type": "stream",
          "name": "stdout",
          "text": [
            "Prod:Arroz,descricao: Mercado, preco: 10, peso:5kg\n"
          ]
        }
      ]
    },
    {
      "cell_type": "code",
      "source": [
        "#Deletando atributos\n",
        "\n",
        "print(p2.__dict__)"
      ],
      "metadata": {
        "colab": {
          "base_uri": "https://localhost:8080/"
        },
        "id": "iXTgh3MsQUSZ",
        "outputId": "3cac9f19-e835-4a29-8ba1-2909ca9ed021"
      },
      "execution_count": null,
      "outputs": [
        {
          "output_type": "stream",
          "name": "stdout",
          "text": [
            "{'nome': 'Arroz', 'descricao': 'Mercado', 'preco': 10, 'peso': '5kg'}\n"
          ]
        }
      ]
    },
    {
      "cell_type": "code",
      "source": [
        "del p2.peso\n",
        "print(p2.__dict__)"
      ],
      "metadata": {
        "colab": {
          "base_uri": "https://localhost:8080/"
        },
        "id": "BqC4b9WYQw2L",
        "outputId": "a7bbc4c7-78d2-4b6f-85d8-1059557eba6d"
      },
      "execution_count": null,
      "outputs": [
        {
          "output_type": "stream",
          "name": "stdout",
          "text": [
            "{'nome': 'Arroz', 'descricao': 'Mercado', 'preco': 10}\n"
          ]
        }
      ]
    },
    {
      "cell_type": "markdown",
      "source": [
        "# Método: Comportamento do objeto. Quais ações pode executar (lembrar das funções) - função é um método dentro da classe"
      ],
      "metadata": {
        "id": "yX3FEKm4CRe0"
      }
    },
    {
      "cell_type": "markdown",
      "source": [
        "Métodos de instância:\n"
      ],
      "metadata": {
        "id": "pjdLFgaqCdPP"
      }
    },
    {
      "cell_type": "markdown",
      "source": [
        "Obs: Todo elemento que inicia e finalia com __: dunder (doouble underline).\n",
        "\n",
        "Dunder é um comando mágico."
      ],
      "metadata": {
        "id": "bNIJQT3rEVsk"
      }
    },
    {
      "cell_type": "code",
      "source": [
        "class Lampada:\n",
        "\n",
        "  def __init__(self,cor, voltagem, luminosidade):\n",
        "    self.__cor=cor\n",
        "    self.___voltagem=voltagem\n",
        "    self.__=luminosidade"
      ],
      "metadata": {
        "id": "3DjxipmhCjHq"
      },
      "execution_count": null,
      "outputs": []
    },
    {
      "cell_type": "code",
      "source": [
        "class ContaCorrente:\n",
        "  contador =4999\n",
        "\n",
        "  def __init__(self, limite, saldo):\n",
        "    self.__numero= ContaCorrente.contador + 1\n",
        "    self.___limite= limite\n",
        "    self.__saldo=saldo\n",
        "\n",
        "    ContaCorrente.contador =self.__numero"
      ],
      "metadata": {
        "id": "zVb3jj04A5_v"
      },
      "execution_count": null,
      "outputs": []
    },
    {
      "cell_type": "code",
      "source": [
        "!pip install passlib"
      ],
      "metadata": {
        "colab": {
          "base_uri": "https://localhost:8080/"
        },
        "id": "KjeRx4W6N28b",
        "outputId": "28260c3e-3c73-470b-9040-c847292a7296"
      },
      "execution_count": 41,
      "outputs": [
        {
          "output_type": "stream",
          "name": "stdout",
          "text": [
            "Collecting passlib\n",
            "  Downloading passlib-1.7.4-py2.py3-none-any.whl (525 kB)\n",
            "\u001b[?25l\r\u001b[K     |▋                               | 10 kB 13.9 MB/s eta 0:00:01\r\u001b[K     |█▎                              | 20 kB 18.2 MB/s eta 0:00:01\r\u001b[K     |█▉                              | 30 kB 12.5 MB/s eta 0:00:01\r\u001b[K     |██▌                             | 40 kB 10.3 MB/s eta 0:00:01\r\u001b[K     |███▏                            | 51 kB 5.3 MB/s eta 0:00:01\r\u001b[K     |███▊                            | 61 kB 5.4 MB/s eta 0:00:01\r\u001b[K     |████▍                           | 71 kB 5.7 MB/s eta 0:00:01\r\u001b[K     |█████                           | 81 kB 6.4 MB/s eta 0:00:01\r\u001b[K     |█████▋                          | 92 kB 4.8 MB/s eta 0:00:01\r\u001b[K     |██████▎                         | 102 kB 5.1 MB/s eta 0:00:01\r\u001b[K     |██████▉                         | 112 kB 5.1 MB/s eta 0:00:01\r\u001b[K     |███████▌                        | 122 kB 5.1 MB/s eta 0:00:01\r\u001b[K     |████████                        | 133 kB 5.1 MB/s eta 0:00:01\r\u001b[K     |████████▊                       | 143 kB 5.1 MB/s eta 0:00:01\r\u001b[K     |█████████▍                      | 153 kB 5.1 MB/s eta 0:00:01\r\u001b[K     |██████████                      | 163 kB 5.1 MB/s eta 0:00:01\r\u001b[K     |██████████▋                     | 174 kB 5.1 MB/s eta 0:00:01\r\u001b[K     |███████████▎                    | 184 kB 5.1 MB/s eta 0:00:01\r\u001b[K     |███████████▉                    | 194 kB 5.1 MB/s eta 0:00:01\r\u001b[K     |████████████▌                   | 204 kB 5.1 MB/s eta 0:00:01\r\u001b[K     |█████████████                   | 215 kB 5.1 MB/s eta 0:00:01\r\u001b[K     |█████████████▊                  | 225 kB 5.1 MB/s eta 0:00:01\r\u001b[K     |██████████████▍                 | 235 kB 5.1 MB/s eta 0:00:01\r\u001b[K     |███████████████                 | 245 kB 5.1 MB/s eta 0:00:01\r\u001b[K     |███████████████▋                | 256 kB 5.1 MB/s eta 0:00:01\r\u001b[K     |████████████████▏               | 266 kB 5.1 MB/s eta 0:00:01\r\u001b[K     |████████████████▉               | 276 kB 5.1 MB/s eta 0:00:01\r\u001b[K     |█████████████████▌              | 286 kB 5.1 MB/s eta 0:00:01\r\u001b[K     |██████████████████              | 296 kB 5.1 MB/s eta 0:00:01\r\u001b[K     |██████████████████▊             | 307 kB 5.1 MB/s eta 0:00:01\r\u001b[K     |███████████████████▎            | 317 kB 5.1 MB/s eta 0:00:01\r\u001b[K     |████████████████████            | 327 kB 5.1 MB/s eta 0:00:01\r\u001b[K     |████████████████████▋           | 337 kB 5.1 MB/s eta 0:00:01\r\u001b[K     |█████████████████████▏          | 348 kB 5.1 MB/s eta 0:00:01\r\u001b[K     |█████████████████████▉          | 358 kB 5.1 MB/s eta 0:00:01\r\u001b[K     |██████████████████████▌         | 368 kB 5.1 MB/s eta 0:00:01\r\u001b[K     |███████████████████████         | 378 kB 5.1 MB/s eta 0:00:01\r\u001b[K     |███████████████████████▊        | 389 kB 5.1 MB/s eta 0:00:01\r\u001b[K     |████████████████████████▎       | 399 kB 5.1 MB/s eta 0:00:01\r\u001b[K     |█████████████████████████       | 409 kB 5.1 MB/s eta 0:00:01\r\u001b[K     |█████████████████████████▋      | 419 kB 5.1 MB/s eta 0:00:01\r\u001b[K     |██████████████████████████▏     | 430 kB 5.1 MB/s eta 0:00:01\r\u001b[K     |██████████████████████████▉     | 440 kB 5.1 MB/s eta 0:00:01\r\u001b[K     |███████████████████████████▍    | 450 kB 5.1 MB/s eta 0:00:01\r\u001b[K     |████████████████████████████    | 460 kB 5.1 MB/s eta 0:00:01\r\u001b[K     |████████████████████████████▊   | 471 kB 5.1 MB/s eta 0:00:01\r\u001b[K     |█████████████████████████████▎  | 481 kB 5.1 MB/s eta 0:00:01\r\u001b[K     |██████████████████████████████  | 491 kB 5.1 MB/s eta 0:00:01\r\u001b[K     |██████████████████████████████▌ | 501 kB 5.1 MB/s eta 0:00:01\r\u001b[K     |███████████████████████████████▏| 512 kB 5.1 MB/s eta 0:00:01\r\u001b[K     |███████████████████████████████▉| 522 kB 5.1 MB/s eta 0:00:01\r\u001b[K     |████████████████████████████████| 525 kB 5.1 MB/s \n",
            "\u001b[?25hInstalling collected packages: passlib\n",
            "Successfully installed passlib-1.7.4\n"
          ]
        }
      ]
    },
    {
      "cell_type": "code",
      "source": [
        "from passlib.hash import pbkdf2_sha256 as cryp"
      ],
      "metadata": {
        "id": "xVTs-3kqOK27"
      },
      "execution_count": 47,
      "outputs": []
    },
    {
      "cell_type": "code",
      "source": [
        "class Loguin:\n",
        "  def __init__(self,nome,sobrenome,email,senha):\n",
        "    self.nome=nome\n",
        "    self.sobrenome=sobrenome\n",
        "    self.email=email\n",
        "    self.senha=cryp.hash(senha,rounds=20000,salt_size=16)\n",
        "\n",
        "  def nome_completo(self): #métodos são escritos em letra minúscula\n",
        "    return f'{self.nome} {self.sobrenome}'\n",
        "\n",
        "  def senha(self):\n",
        "    return f'{self.senha}'\n"
      ],
      "metadata": {
        "id": "-JtG7x6pG_Z5"
      },
      "execution_count": 69,
      "outputs": []
    },
    {
      "cell_type": "code",
      "source": [
        "loguin1= Loguin('Helen','Karen', 'helenks@gmail.com','3003')\n",
        "loguin2= Loguin('Romário','Nogueira', 'rns@gmail.com','0801')\n",
        "\n",
        "print(loguin1.nome_completo())\n",
        "print(loguin2.nome_completo())"
      ],
      "metadata": {
        "colab": {
          "base_uri": "https://localhost:8080/"
        },
        "id": "KRbb2j0eIQjn",
        "outputId": "86c1c2e2-b9a9-4911-a0b0-33c5e172f527"
      },
      "execution_count": 70,
      "outputs": [
        {
          "output_type": "stream",
          "name": "stdout",
          "text": [
            "Helen Karen\n",
            "Romário Nogueira\n"
          ]
        }
      ]
    },
    {
      "cell_type": "code",
      "source": [
        "print(loguin1.nome_completo())\n",
        "print(loguin2.nome_completo())\n",
        "print(Loguin.nome_completo(loguin1))"
      ],
      "metadata": {
        "colab": {
          "base_uri": "https://localhost:8080/"
        },
        "id": "oEppLGvoIiIi",
        "outputId": "5954be2c-beb4-4b10-85d8-932bce73f4a0"
      },
      "execution_count": 71,
      "outputs": [
        {
          "output_type": "stream",
          "name": "stdout",
          "text": [
            "Helen Karen\n",
            "Romário Nogueira\n",
            "Helen Karen\n"
          ]
        }
      ]
    },
    {
      "cell_type": "code",
      "source": [
        "print(Loguin.senha(loguin1))"
      ],
      "metadata": {
        "colab": {
          "base_uri": "https://localhost:8080/"
        },
        "id": "T97u4L8VKO-6",
        "outputId": "a46188f4-d7a7-4590-aa3a-fc8335b41cb3"
      },
      "execution_count": 72,
      "outputs": [
        {
          "output_type": "stream",
          "name": "stdout",
          "text": [
            "$pbkdf2-sha256$20000$c86Z8x7DWOt9r/X.H.Pcmw$zZw41RmlNXff/HctplnuAOgEWnClgko2cBiRL9IybhI\n"
          ]
        }
      ]
    },
    {
      "cell_type": "code",
      "source": [
        "class Item:\n",
        "  contador = 0\n",
        "  def __init__(self,nome, descricao, valor):\n",
        "    self.__id=  Item.contador + 1 \n",
        "    self.__nome=nome\n",
        "    self.___descricao= descricao\n",
        "    self.__valor=valor\n",
        "\n",
        "  def desconto(self, porcentagem):\n",
        "    return(self.__valor * (100- porcentagem))/100"
      ],
      "metadata": {
        "id": "vIEMY348DKuF"
      },
      "execution_count": null,
      "outputs": []
    },
    {
      "cell_type": "code",
      "source": [
        "i1 = Item('Mouse','Informática',100)\n",
        "print(i1.desconto(10))"
      ],
      "metadata": {
        "colab": {
          "base_uri": "https://localhost:8080/"
        },
        "id": "yN9_HaefF270",
        "outputId": "4d3bd3cf-f23b-401f-b41d-4b2ecc8e503c"
      },
      "execution_count": null,
      "outputs": [
        {
          "output_type": "stream",
          "name": "stdout",
          "text": [
            "90.0\n"
          ]
        }
      ]
    },
    {
      "cell_type": "code",
      "source": [
        "print(Item.desconto(i1,10)) #self(próprio objeto), desconto"
      ],
      "metadata": {
        "colab": {
          "base_uri": "https://localhost:8080/"
        },
        "id": "hbuoEHCtGsYB",
        "outputId": "cdb8dfd6-387d-441a-eba2-31b7b47a5e21"
      },
      "execution_count": null,
      "outputs": [
        {
          "output_type": "stream",
          "name": "stdout",
          "text": [
            "90.0\n"
          ]
        }
      ]
    }
  ]
}